{
 "cells": [
  {
   "cell_type": "markdown",
   "metadata": {},
   "source": [
    "# Desafio 4\n",
    "\n",
    "Neste desafio, vamos praticar um pouco sobre testes de hipóteses. Utilizaremos o _data set_ [2016 Olympics in Rio de Janeiro](https://www.kaggle.com/rio2016/olympic-games/), que contém dados sobre os atletas das Olimpíadas de 2016 no Rio de Janeiro.\n",
    "\n",
    "Esse _data set_ conta com informações gerais sobre 11538 atletas como nome, nacionalidade, altura, peso e esporte praticado. Estaremos especialmente interessados nas variáveis numéricas altura (`height`) e peso (`weight`). As análises feitas aqui são parte de uma Análise Exploratória de Dados (EDA).\n",
    "\n",
    "> Obs.: Por favor, não modifique o nome das funções de resposta."
   ]
  },
  {
   "cell_type": "markdown",
   "metadata": {},
   "source": [
    "## _Setup_ geral"
   ]
  },
  {
   "cell_type": "code",
   "execution_count": 1,
   "metadata": {},
   "outputs": [],
   "source": [
    "import pandas as pd\n",
    "import matplotlib.pyplot as plt\n",
    "import numpy as np\n",
    "import scipy.stats as sct\n",
    "import seaborn as sns\n",
    "from statsmodels.graphics.gofplots import qqplot"
   ]
  },
  {
   "cell_type": "code",
   "execution_count": 2,
   "metadata": {},
   "outputs": [],
   "source": [
    "%matplotlib inline\n",
    "\n",
    "from IPython.core.pylabtools import figsize\n",
    "\n",
    "\n",
    "figsize(12, 8)\n",
    "\n",
    "sns.set()"
   ]
  },
  {
   "cell_type": "code",
   "execution_count": 3,
   "metadata": {},
   "outputs": [],
   "source": [
    "athletes = pd.read_csv(\"athletes.csv\")"
   ]
  },
  {
   "cell_type": "code",
   "execution_count": 4,
   "metadata": {},
   "outputs": [],
   "source": [
    "def get_sample(df, col_name, n=100, seed=42):\n",
    "    \"\"\"Get a sample from a column of a dataframe.\n",
    "    \n",
    "    It drops any numpy.nan entries before sampling. The sampling\n",
    "    is performed without replacement.\n",
    "    \n",
    "    Example of numpydoc for those who haven't seen yet.\n",
    "    \n",
    "    Parameters\n",
    "    ----------\n",
    "    df : pandas.DataFrame\n",
    "        Source dataframe.\n",
    "    col_name : str\n",
    "        Name of the column to be sampled.\n",
    "    n : int\n",
    "        Sample size. Default is 100.\n",
    "    seed : int\n",
    "        Random seed. Default is 42.\n",
    "    \n",
    "    Returns\n",
    "    -------\n",
    "    pandas.Series\n",
    "        Sample of size n from dataframe's column.\n",
    "    \"\"\"\n",
    "    np.random.seed(seed)\n",
    "    \n",
    "    random_idx = np.random.choice(df[col_name].dropna().index, size=n, replace=False)\n",
    "    \n",
    "    return df.loc[random_idx, col_name]"
   ]
  },
  {
   "cell_type": "markdown",
   "metadata": {},
   "source": [
    "## Inicia sua análise a partir daqui"
   ]
  },
  {
   "cell_type": "code",
   "execution_count": 5,
   "metadata": {},
   "outputs": [],
   "source": [
    "# Sua análise começa aqui.\n",
    "amostra = get_sample(athletes, 'height', n=3000, seed=42)\n"
   ]
  },
  {
   "cell_type": "code",
   "execution_count": 7,
   "metadata": {},
   "outputs": [
    {
     "name": "stdout",
     "output_type": "stream",
     "text": [
      "<class 'pandas.core.frame.DataFrame'>\n",
      "Int64Index: 3000 entries, 1811 to 5892\n",
      "Data columns (total 1 columns):\n",
      " #   Column  Non-Null Count  Dtype  \n",
      "---  ------  --------------  -----  \n",
      " 0   height  3000 non-null   float64\n",
      "dtypes: float64(1)\n",
      "memory usage: 46.9 KB\n"
     ]
    }
   ],
   "source": [
    "amostra.info()"
   ]
  },
  {
   "cell_type": "code",
   "execution_count": 23,
   "metadata": {},
   "outputs": [
    {
     "data": {
      "text/plain": [
       "height    1.76678\n",
       "dtype: float64"
      ]
     },
     "execution_count": 23,
     "metadata": {},
     "output_type": "execute_result"
    }
   ],
   "source": [
    "amostra.mean()"
   ]
  },
  {
   "cell_type": "code",
   "execution_count": 26,
   "metadata": {},
   "outputs": [
    {
     "data": {
      "text/plain": [
       "(0.9961519837379456, 5.681722541339695e-07)"
      ]
     },
     "execution_count": 26,
     "metadata": {},
     "output_type": "execute_result"
    }
   ],
   "source": [
    "sct.shapiro(amostra)"
   ]
  },
  {
   "cell_type": "code",
   "execution_count": 18,
   "metadata": {},
   "outputs": [
    {
     "data": {
      "text/plain": [
       "(0.9961519837379456, 5.681722541339695e-07)"
      ]
     },
     "execution_count": 18,
     "metadata": {},
     "output_type": "execute_result"
    }
   ],
   "source": [
    "sct.shapiro(amostra)\n"
   ]
  },
  {
   "cell_type": "markdown",
   "metadata": {},
   "source": [
    "## Questão 1\n",
    "\n",
    "Considerando uma amostra de tamanho 3000 da coluna `height` obtida com a função `get_sample()`, execute o teste de normalidade de Shapiro-Wilk com a função `scipy.stats.shapiro()`. Podemos afirmar que as alturas são normalmente distribuídas com base nesse teste (ao nível de significância de 5%)? Responda com um boolean (`True` ou `False`)."
   ]
  },
  {
   "cell_type": "code",
   "execution_count": 24,
   "metadata": {},
   "outputs": [],
   "source": [
    "#Hipóteses:\n",
    "# H0--> a amostra segue uma distribuição normal\n",
    "# H1 -- a amostra não segue uma distribuição normal\n",
    "\n",
    "#a função q1 retorna 'True' quando a amostra é uma distribuição normal e 'False' quando não é uma distribuição\n",
    "#normal, ou seja, rejeita H0\n",
    "\n",
    "#a variável 'teste_est' recebe o valor do teste estatístico\n",
    "#a variável 'p_value' recebe o valor do p-value\n",
    "\n",
    "#por fim, a função faz uma comparação entre o valor de alpha e o valor de p-value, retornando um valor booleano\n",
    "def q1(amostra):\n",
    "    alpha = 0.05\n",
    "    teste_est, p_value = sct.shapiro(amostra)\n",
    "    return alpha<p_value"
   ]
  },
  {
   "cell_type": "code",
   "execution_count": 21,
   "metadata": {},
   "outputs": [
    {
     "data": {
      "text/plain": [
       "False"
      ]
     },
     "execution_count": 21,
     "metadata": {},
     "output_type": "execute_result"
    }
   ],
   "source": [
    "q1(amostra)"
   ]
  },
  {
   "cell_type": "code",
   "execution_count": 10,
   "metadata": {},
   "outputs": [
    {
     "data": {
      "text/plain": [
       "(0.9961519837379456, 5.681722541339695e-07)"
      ]
     },
     "execution_count": 10,
     "metadata": {},
     "output_type": "execute_result"
    }
   ],
   "source": [
    "sct.shapiro(amostra)"
   ]
  },
  {
   "cell_type": "markdown",
   "metadata": {},
   "source": [
    "__Para refletir__:\n",
    "\n",
    "* Plote o histograma dessa variável (com, por exemplo, `bins=25`). A forma do gráfico e o resultado do teste são condizentes? Por que?\n",
    "* Plote o qq-plot para essa variável e a analise.\n",
    "* Existe algum nível de significância razoável que nos dê outro resultado no teste? (Não faça isso na prática. Isso é chamado _p-value hacking_, e não é legal)."
   ]
  },
  {
   "cell_type": "code",
   "execution_count": 48,
   "metadata": {},
   "outputs": [],
   "source": [
    "import statsmodels.api as sm"
   ]
  },
  {
   "cell_type": "code",
   "execution_count": 15,
   "metadata": {},
   "outputs": [
    {
     "name": "stderr",
     "output_type": "stream",
     "text": [
      "/home/vinicius/anaconda3/lib/python3.7/site-packages/matplotlib/figure.py:445: UserWarning: Matplotlib is currently using module://ipykernel.pylab.backend_inline, which is a non-GUI backend, so cannot show the figure.\n",
      "  % get_backend())\n"
     ]
    },
    {
     "data": {
      "image/png": "[encoded data removed]",
      "text/plain": [
       "<Figure size 864x576 with 2 Axes>"
      ]
     },
     "metadata": {},
     "output_type": "display_data"
    }
   ],
   "source": [
    "fig, ax =plt.subplots(1,2)\n",
    "sns.distplot(amostra, bins= 25,ax=ax[0]);\n",
    "qqplot(amostra, line='s', ax=ax[1]);\n",
    "fig.show()"
   ]
  },
  {
   "cell_type": "code",
   "execution_count": 17,
   "metadata": {},
   "outputs": [
    {
     "data": {
      "text/plain": [
       "<matplotlib.axes._subplots.AxesSubplot at 0x7f9e51c8d320>"
      ]
     },
     "execution_count": 17,
     "metadata": {},
     "output_type": "execute_result"
    },
    {
     "data": {
      "image/png": "[encoded data removed]",
      "text/plain": [
       "<Figure size 864x576 with 1 Axes>"
      ]
     },
     "metadata": {},
     "output_type": "display_data"
    }
   ],
   "source": [
    "#histograma da amostra selecionada com 50 bins\n",
    "sns.distplot(amostra, bins=50)"
   ]
  },
  {
   "cell_type": "markdown",
   "metadata": {},
   "source": [
    "#### As análises tanto do histograma como também do qqplot, mostram uma distribuição aparentemente normal, o que difere do resultado trazido pelo cálculo de shapiro-wilk. Possivelmente, essa diferença se deva a alguns outilers. Estes outiliers podem ser melhor visualizados ao se especificar uma quantidade de bins=50 para o histograma. Neste  caso, é possível verificar que há picos muito grandes em torno da média."
   ]
  },
  {
   "cell_type": "markdown",
   "metadata": {},
   "source": [
    "#### Dado que o valor de p-value é muito baixo, para que o resultado do teste seja diferente (True --> distribuição normal), o nível de significância teria que ser bastante reduzido (0.00005%, por exemplo), o que implica, na prática em colocar a aceitação da Hipótese nula (H0) sob toda a curva de probabilidade, não deixando margem para a rejeição da mesma."
   ]
  },
  {
   "cell_type": "markdown",
   "metadata": {},
   "source": [
    "## Questão 2\n",
    "\n",
    "Repita o mesmo procedimento acima, mas agora utilizando o teste de normalidade de Jarque-Bera através da função `scipy.stats.jarque_bera()`. Agora podemos afirmar que as alturas são normalmente distribuídas (ao nível de significância de 5%)? Responda com um boolean (`True` ou `False`)."
   ]
  },
  {
   "cell_type": "code",
   "execution_count": 18,
   "metadata": {},
   "outputs": [],
   "source": [
    "#Hipóteses:\n",
    "# H0--> a amostra é uma distribuição normal\n",
    "# H1 -- a amostra não segue uma distribuição normal\n",
    "\n",
    "#a função q1 retorna 'True' quando a amostra é uma distribuição normal e 'False' quando não é uma distribuição\n",
    "#normal, ou seja, rejeita H0\n",
    "\n",
    "#a variável 'teste_est' recebe o valor do teste estatístico\n",
    "#a variável 'p_value' recebe o valor do p-value\n",
    "\n",
    "#por fim, a função faz uma comparação entre o valor de alpha e o valor de p-value, retornando um valor booleano\n",
    "\n",
    "def q2():\n",
    "    alpha = 0.05\n",
    "    teste_est, p_value = sct.jarque_bera(amostra)\n",
    "    return alpha<p_value"
   ]
  },
  {
   "cell_type": "markdown",
   "metadata": {},
   "source": [
    "__Para refletir__:\n",
    "\n",
    "* Esse resultado faz sentido?"
   ]
  },
  {
   "cell_type": "markdown",
   "metadata": {},
   "source": [
    "#### Sim. O teste de normalidade de Shapiro-wilk é confiável para amostras de tamanho até 5000. O teste de Jarque-Bera, por sua vez, é confiável para amostras de tamanho superior a 2000. A amostra utilizada foi de 3000. Desta forma, é esperado que ambos os teste deem resultados iguais."
   ]
  },
  {
   "cell_type": "markdown",
   "metadata": {},
   "source": [
    "## Questão 3\n",
    "\n",
    "Considerando agora uma amostra de tamanho 3000 da coluna `weight` obtida com a função `get_sample()`. Faça o teste de normalidade de D'Agostino-Pearson utilizando a função `scipy.stats.normaltest()`. Podemos afirmar que os pesos vêm de uma distribuição normal ao nível de significância de 5%? Responda com um boolean (`True` ou `False`)."
   ]
  },
  {
   "cell_type": "code",
   "execution_count": 25,
   "metadata": {},
   "outputs": [],
   "source": [
    "amostra_weight = get_sample(athletes, ['weight'], n=3000, seed=42)"
   ]
  },
  {
   "cell_type": "code",
   "execution_count": 24,
   "metadata": {},
   "outputs": [],
   "source": [
    "#Hipóteses:\n",
    "# H0--> a amostra é uma distribuição normal\n",
    "# H1 -- a amostra não segue uma distribuição normal\n",
    "\n",
    "#a função q1 retorna 'True' quando a amostra é uma distribuição normal e 'False' quando não é uma distribuição\n",
    "#normal, ou seja, rejeita H0\n",
    "\n",
    "#a variável 'teste_est' recebe o valor do teste estatístico\n",
    "#a variável 'p_value' recebe o valor do p-value\n",
    "\n",
    "#por fim, a função faz uma comparação entre o valor de alpha e o valor de p-value, retornando um valor booleano\n",
    "\n",
    "def q3(amostra):\n",
    "    alpha = 0.05\n",
    "    teste_est, p_value = sct.normaltest(amostra)\n",
    "    return bool(alpha<p_value)"
   ]
  },
  {
   "cell_type": "code",
   "execution_count": 25,
   "metadata": {},
   "outputs": [
    {
     "data": {
      "text/plain": [
       "False"
      ]
     },
     "execution_count": 25,
     "metadata": {},
     "output_type": "execute_result"
    }
   ],
   "source": [
    "q3(amostra_weight)"
   ]
  },
  {
   "cell_type": "markdown",
   "metadata": {},
   "source": [
    "__Para refletir__:\n",
    "\n",
    "* Plote o histograma dessa variável (com, por exemplo, `bins=25`). A forma do gráfico e o resultado do teste são condizentes? Por que?\n",
    "* Um _box plot_ também poderia ajudar a entender a resposta."
   ]
  },
  {
   "cell_type": "code",
   "execution_count": 27,
   "metadata": {},
   "outputs": [
    {
     "name": "stderr",
     "output_type": "stream",
     "text": [
      "/home/vinicius/anaconda3/lib/python3.7/site-packages/matplotlib/figure.py:445: UserWarning: Matplotlib is currently using module://ipykernel.pylab.backend_inline, which is a non-GUI backend, so cannot show the figure.\n",
      "  % get_backend())\n"
     ]
    },
    {
     "data": {
      "image/png": "[encoded data removed]",
      "text/plain": [
       "<Figure size 864x576 with 2 Axes>"
      ]
     },
     "metadata": {},
     "output_type": "display_data"
    }
   ],
   "source": [
    "fig2, ax =plt.subplots(1,2)\n",
    "sns.distplot(amostra_weight, bins= 25,ax=ax[0]);\n",
    "sns.boxplot(amostra_weight, ax=ax[1]);\n",
    "fig2.show()"
   ]
  },
  {
   "cell_type": "code",
   "execution_count": 38,
   "metadata": {},
   "outputs": [
    {
     "name": "stdout",
     "output_type": "stream",
     "text": [
      "Quantidade de dados acima da média: 1290\n"
     ]
    }
   ],
   "source": [
    "#indica a quantidade de dados que estão acima da média\n",
    "print('Quantidade de dados acima da média:',(amostra_weight['weight']>amostra_weight['weight'].mean()).sum())"
   ]
  },
  {
   "cell_type": "code",
   "execution_count": 39,
   "metadata": {},
   "outputs": [
    {
     "name": "stdout",
     "output_type": "stream",
     "text": [
      "Quantidade de dados abaixo da média: 1710\n"
     ]
    }
   ],
   "source": [
    "#indica a quantidade de dados que estão abaixo da média\n",
    "print('Quantidade de dados abaixo da média:',(amostra_weight['weight']<amostra_weight['weight'].mean()).sum())"
   ]
  },
  {
   "cell_type": "markdown",
   "metadata": {},
   "source": [
    "#### Os gráficos (histograma e boxplot) indicam haver uma maior concentração dos dados ao lado esquerdo da média. Desta forma, há uma maior probabilidade de um dado qualquer estar abaixo da média do que acima da mesma, sendo um indicativo de que não se trata de uma distribuição normal. "
   ]
  },
  {
   "cell_type": "markdown",
   "metadata": {},
   "source": [
    "## Questão 4\n",
    "\n",
    "Realize uma transformação logarítmica em na amostra de `weight` da questão 3 e repita o mesmo procedimento. Podemos afirmar a normalidade da variável transformada ao nível de significância de 5%? Responda com um boolean (`True` ou `False`)."
   ]
  },
  {
   "cell_type": "code",
   "execution_count": 41,
   "metadata": {},
   "outputs": [],
   "source": [
    "#Hipóteses:\n",
    "# H0--> a amostra é uma distribuição normal\n",
    "# H1 -- a amostra não segue uma distribuição normal\n",
    "\n",
    "#a função q1 retorna 'True' quando a amostra é uma distribuição normal e 'False' quando não é uma distribuição\n",
    "#normal, ou seja, rejeita H0\n",
    "\n",
    "#a variável 'transf_log' recebe o valor dos dados transformados logaritmicamente em base 10\n",
    "#a variável 'teste_est' recebe o valor do teste estatístico\n",
    "#a variável 'p_value' recebe o valor do p-value\n",
    "\n",
    "#por fim, a função faz uma comparação entre o valor de alpha e o valor de p-value, retornando um valor booleano\n",
    "\n",
    "\n",
    "def q4(amostra):\n",
    "    transf_log = np.log10(amostra)\n",
    "    alpha = 0.05\n",
    "    teste_est, p_value = sct.normaltest(transf_log)\n",
    "    return bool(alpha<p_value)"
   ]
  },
  {
   "cell_type": "code",
   "execution_count": 42,
   "metadata": {},
   "outputs": [
    {
     "data": {
      "text/plain": [
       "False"
      ]
     },
     "execution_count": 42,
     "metadata": {},
     "output_type": "execute_result"
    }
   ],
   "source": [
    "q4(amostra_weight)"
   ]
  },
  {
   "cell_type": "markdown",
   "metadata": {},
   "source": [
    "__Para refletir__:\n",
    "\n",
    "* Plote o histograma dessa variável (com, por exemplo, `bins=25`). A forma do gráfico e o resultado do teste são condizentes? Por que?\n",
    "* Você esperava um resultado diferente agora?"
   ]
  },
  {
   "cell_type": "code",
   "execution_count": 48,
   "metadata": {},
   "outputs": [
    {
     "data": {
      "text/plain": [
       "<matplotlib.axes._subplots.AxesSubplot at 0x7f9e4bce0f28>"
      ]
     },
     "execution_count": 48,
     "metadata": {},
     "output_type": "execute_result"
    },
    {
     "data": {
      "image/png": "[encoded data removed]",
      "text/plain": [
       "<Figure size 864x576 with 1 Axes>"
      ]
     },
     "metadata": {},
     "output_type": "display_data"
    }
   ],
   "source": [
    "sns.distplot(np.log10(amostra_weight),bins=25)"
   ]
  },
  {
   "cell_type": "markdown",
   "metadata": {},
   "source": [
    "#### A transformação logarítmica em base 10 dos dados, possibilitou que a curva se tornasse mais parecida com uma normal. Contudo, é possível verificar no histograma que ao lado direito da média, há uma tendência dos dados serem mais esparsos, o que corrobora com o resultado trazido pela função."
   ]
  },
  {
   "cell_type": "markdown",
   "metadata": {},
   "source": [
    "> __Para as questão 5 6 e 7 a seguir considere todos testes efetuados ao nível de significância de 5%__."
   ]
  },
  {
   "cell_type": "markdown",
   "metadata": {},
   "source": [
    "## Questão 5\n",
    "\n",
    "Obtenha todos atletas brasileiros, norte-americanos e canadenses em `DataFrame`s chamados `bra`, `usa` e `can`,respectivamente. Realize um teste de hipóteses para comparação das médias das alturas (`height`) para amostras independentes e variâncias diferentes com a função `scipy.stats.ttest_ind()` entre `bra` e `usa`. Podemos afirmar que as médias são estatisticamente iguais? Responda com um boolean (`True` ou `False`)."
   ]
  },
  {
   "cell_type": "code",
   "execution_count": 6,
   "metadata": {},
   "outputs": [],
   "source": [
    "bra = pd.DataFrame(athletes.loc[athletes['nationality']=='BRA'])\n",
    "usa = pd.DataFrame(athletes.loc[athletes['nationality']=='USA'])\n",
    "can = pd.DataFrame(athletes.loc[athletes['nationality']=='CAN'])"
   ]
  },
  {
   "cell_type": "code",
   "execution_count": 52,
   "metadata": {},
   "outputs": [],
   "source": [
    "#Hipóteses:\n",
    "# H0--> as amostras são estatisticamente iguais\n",
    "# H1 -- a amostra não são estatisticamente iguais\n",
    "\n",
    "#a função q1 retorna 'True' quando as amostras são estatisticamente iguais e 'False' do contrário, ou seja,\n",
    "#rejeita H0\n",
    "\n",
    "#a variável 'teste_est' recebe o valor do teste estatístico\n",
    "#a variável 'p_value' recebe o valor do p-value\n",
    "\n",
    "#por fim, a função faz uma comparação entre o valor de alpha e o valor de p-value, retornando um valor booleano\n",
    "\n",
    "def q5(df):\n",
    "    alpha = 0.05\n",
    "    teste_est, p_value = sct.ttest_ind(bra['height'].dropna(),usa['height'].dropna())\n",
    "    return bool(alpha<p_value)"
   ]
  },
  {
   "cell_type": "code",
   "execution_count": 53,
   "metadata": {},
   "outputs": [
    {
     "data": {
      "text/plain": [
       "False"
      ]
     },
     "execution_count": 53,
     "metadata": {},
     "output_type": "execute_result"
    }
   ],
   "source": [
    "q5(athletes)"
   ]
  },
  {
   "cell_type": "markdown",
   "metadata": {},
   "source": [
    "## Questão 6\n",
    "\n",
    "Repita o procedimento da questão 5, mas agora entre as alturas de `bra` e `can`. Podemos afimar agora que as médias são estatisticamente iguais? Reponda com um boolean (`True` ou `False`)."
   ]
  },
  {
   "cell_type": "code",
   "execution_count": 54,
   "metadata": {},
   "outputs": [],
   "source": [
    "#Hipóteses:\n",
    "# H0--> as amostras são estatisticamente iguais\n",
    "# H1 -- as amostras não são estatisticamente iguais\n",
    "\n",
    "#a função q1 retorna 'True' quando as amostras são estatisticamente iguais e 'False' do contrário, ou seja,\n",
    "#rejeita H0\n",
    "\n",
    "#a variável 'teste_est' recebe o valor do teste estatístico\n",
    "#a variável 'p_value' recebe o valor do p-value\n",
    "\n",
    "#por fim, a função faz uma comparação entre o valor de alpha e o valor de p-value, retornando um valor booleano\n",
    "\n",
    "def q6(df):\n",
    "    alpha = 0.05\n",
    "    teste_est, p_value = sct.ttest_ind(bra['height'].dropna(),can['height'].dropna())\n",
    "    return bool(alpha<p_value)"
   ]
  },
  {
   "cell_type": "code",
   "execution_count": 55,
   "metadata": {},
   "outputs": [
    {
     "data": {
      "text/plain": [
       "True"
      ]
     },
     "execution_count": 55,
     "metadata": {},
     "output_type": "execute_result"
    }
   ],
   "source": [
    "q6(athletes)"
   ]
  },
  {
   "cell_type": "markdown",
   "metadata": {},
   "source": [
    "## Questão 7\n",
    "\n",
    "Repita o procedimento da questão 6, mas agora entre as alturas de `usa` e `can`. Qual o valor do p-valor retornado? Responda como um único escalar arredondado para oito casas decimais."
   ]
  },
  {
   "cell_type": "code",
   "execution_count": 31,
   "metadata": {},
   "outputs": [],
   "source": [
    "#a variável 'teste_est' recebe o valor do teste estatístico\n",
    "#a variável 'p_value' recebe o valor do p-value\n",
    "\n",
    "#por fim, a função traz o valor do 'p-value' arredondado para 8 casas decimais.\n",
    "\n",
    "#Observação: para o parâmetro 'equal_var' foi adotado o valor 'False', pois há uma ligeira diferença entre as variâncias \n",
    "#de ambas as amostras, o que impacta no resultado e consequentemente no valor esperado pelo teste feito pela\n",
    "#Codenation\n",
    "\n",
    "def q7(df):\n",
    "    teste_est, p_value = sct.ttest_ind(usa['height'].dropna(),can['height'].dropna(), equal_var=False)\n",
    "    return round(p_value,8)"
   ]
  },
  {
   "cell_type": "code",
   "execution_count": 32,
   "metadata": {},
   "outputs": [
    {
     "data": {
      "text/plain": [
       "0.00046601"
      ]
     },
     "execution_count": 32,
     "metadata": {},
     "output_type": "execute_result"
    }
   ],
   "source": [
    "q7(athletes)"
   ]
  },
  {
   "cell_type": "code",
   "execution_count": 9,
   "metadata": {},
   "outputs": [
    {
     "data": {
      "text/plain": [
       "Ttest_indResult(statistic=3.516987632488539, pvalue=0.00046601293473888875)"
      ]
     },
     "execution_count": 9,
     "metadata": {},
     "output_type": "execute_result"
    }
   ],
   "source": [
    "sct.ttest_ind(usa['height'].dropna(),can['height'].dropna(), equal_var=False)"
   ]
  },
  {
   "cell_type": "markdown",
   "metadata": {},
   "source": [
    "__Para refletir__:\n",
    "\n",
    "* O resultado faz sentido?\n",
    "* **Resposta**: Para responder, devemos considerar esse resultado a partir de determinada hipótese e em um dado nível de significância, pois, o resultado por si só não diz muita coisa.\n",
    "\n",
    "\n",
    "* Você consegue interpretar esse p-valor?\n",
    "* **Resposta**: Considerando a hipótese nula (H0) de que as médias das amostras são iguais em um nível de significância de 0.05, poderíamos considerar a rejeição da hipótese nula, ou seja, aceitamos considerar que a média das amostras não é igual.\n",
    "\n",
    "\n",
    "* Você consegue chegar a esse valor de p-valor a partir da variável de estatística?\n",
    "* **Resposta**: Considerando as hipóteses:\n",
    "                Ho: as médias das hipóteses são iguais;\n",
    "                H1: as médias das hipóteses são diferentes.\n",
    "  Utilizaremos um teste bicaudal, em que a região crítica de rejeição de H0 está tanto à esquerda, quanto à direita da média. Estimaremos o p-value a partir da utilização da função SF (survival function) que dá o valor de 1-CDF (cumulative distribuction funcion) e dobraremos este valor, visto ser um teste bicaudal."
   ]
  },
  {
   "cell_type": "code",
   "execution_count": 24,
   "metadata": {},
   "outputs": [],
   "source": [
    "#calculando o valor de T-test\n",
    "teste_est= sct.ttest_ind(usa['height'].dropna(),can['height'].dropna(), equal_var=False)"
   ]
  },
  {
   "cell_type": "code",
   "execution_count": 34,
   "metadata": {},
   "outputs": [],
   "source": [
    "#a variável teste_est traz uma tupla como resultado (statistic e p-value). Neste caso utilizaremos apenas o valor\n",
    "#statistic (teste_est[0]) e estimaremos o p-value através da função SF, retornando o dobro deste valor, como\n",
    "#explicado logo acima.\n",
    "p_value = round(sct.norm.sf(teste_est[0])*2,8)"
   ]
  },
  {
   "cell_type": "code",
   "execution_count": 35,
   "metadata": {},
   "outputs": [
    {
     "name": "stdout",
     "output_type": "stream",
     "text": [
      "p_value estimado:  0.00043647\n"
     ]
    }
   ],
   "source": [
    "print (\"p_value estimado: \",p_value)"
   ]
  },
  {
   "cell_type": "code",
   "execution_count": null,
   "metadata": {},
   "outputs": [],
   "source": []
  }
 ],
 "metadata": {
  "kernelspec": {
   "display_name": "Python 3",
   "language": "python",
   "name": "python3"
  },
  "language_info": {
   "codemirror_mode": {
    "name": "ipython",
    "version": 3
   },
   "file_extension": ".py",
   "mimetype": "text/x-python",
   "name": "python",
   "nbconvert_exporter": "python",
   "pygments_lexer": "ipython3",
   "version": "3.7.3"
  }
 },
 "nbformat": 4,
 "nbformat_minor": 2
}
